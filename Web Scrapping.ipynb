{
 "cells": [
  {
   "cell_type": "code",
   "execution_count": 1,
   "metadata": {},
   "outputs": [],
   "source": [
    "import requests\n",
    "from bs4 import BeautifulSoup\n",
    "import urllib.request\n",
    "import random\n",
    "import os"
   ]
  },
  {
   "cell_type": "code",
   "execution_count": 2,
   "metadata": {},
   "outputs": [
    {
     "data": {
      "text/plain": [
       "'C:\\\\Users\\\\rohit'"
      ]
     },
     "execution_count": 2,
     "metadata": {},
     "output_type": "execute_result"
    }
   ],
   "source": [
    "os.getcwd()"
   ]
  },
  {
   "cell_type": "code",
   "execution_count": 3,
   "metadata": {},
   "outputs": [],
   "source": [
    "os.chdir(r\"C:\\Users\\rohit\\Desktop\\Project\\Images\")"
   ]
  },
  {
   "cell_type": "code",
   "execution_count": 4,
   "metadata": {},
   "outputs": [
    {
     "name": "stdout",
     "output_type": "stream",
     "text": [
      "https://www.creativeshrimp.com/wp-content/uploads/2015/11/beeple_thumbnail_01_1.jpg\n",
      "Loop Break\n",
      "https://www.creativeshrimp.com/wp-content/uploads/2015/11/SPORTFUCK.jpg\n",
      "Loop Break\n",
      "https://www.creativeshrimp.com/wp-content/uploads/2015/11/MCD-2087.jpg\n",
      "Loop Break\n",
      "https://www.creativeshrimp.com/wp-content/uploads/2015/11/burttn-coper-e1447256280215.jpg\n",
      "Loop Break\n",
      "https://www.creativeshrimp.com/wp-content/uploads/2015/11/ACRYLIC-DISPERSION.jpg\n",
      "Loop Break\n",
      "https://www.creativeshrimp.com/wp-content/uploads/2015/11/DEM-CUBES-e1447256293476.jpg\n",
      "Loop Break\n",
      "https://www.creativeshrimp.com/wp-content/uploads/2015/11/BAF.1981.jpg\n",
      "Loop Break\n",
      "https://www.creativeshrimp.com/wp-content/uploads/2015/11/EIGHT-YEARS.jpg\n",
      "Loop Break\n",
      "https://www.creativeshrimp.com/wp-content/uploads/2015/11/ELEVEN.jpg\n",
      "Loop Break\n",
      "https://www.creativeshrimp.com/wp-content/uploads/2015/11/FLOOR-100.jpg\n",
      "Loop Break\n",
      "https://www.creativeshrimp.com/wp-content/uploads/2015/11/GOD-FIVE.jpg\n",
      "Loop Break\n",
      "https://www.creativeshrimp.com/wp-content/uploads/2015/11/heaven-and-hell.jpg\n",
      "Loop Break\n",
      "https://www.creativeshrimp.com/wp-content/uploads/2015/11/metallurgy.jpg\n",
      "Loop Break\n",
      "https://www.creativeshrimp.com/wp-content/uploads/2015/11/NUCLEAR-FAMILY.jpg\n",
      "Loop Break\n",
      "https://www.creativeshrimp.com/wp-content/uploads/2015/11/NUMBER-TWO.jpg\n",
      "Loop Break\n",
      "https://www.creativeshrimp.com/wp-content/uploads/2015/11/OB.TANK_.jpg\n",
      "Loop Break\n",
      "https://www.creativeshrimp.com/wp-content/uploads/2015/11/ONE-FOOT.jpg\n",
      "Loop Break\n",
      "https://www.creativeshrimp.com/wp-content/uploads/2015/11/ONE-MILLION.jpg\n",
      "Loop Break\n",
      "https://www.creativeshrimp.com/wp-content/uploads/2015/11/recore..jpg\n",
      "Loop Break\n",
      "https://www.creativeshrimp.com/wp-content/uploads/2015/11/soup-f.jpg\n",
      "Loop Break\n",
      "https://www.creativeshrimp.com/wp-content/uploads/2015/11/SUPERBUG.jpg\n",
      "Loop Break\n",
      "https://www.creativeshrimp.com/wp-content/uploads/2015/11/SWEET-TOOTH.jpg\n",
      "Loop Break\n",
      "https://www.creativeshrimp.com/wp-content/uploads/2015/11/SYSTEMIC-ABERRATION.jpg\n",
      "Loop Break\n",
      "https://www.creativeshrimp.com/wp-content/uploads/2015/11/T.VARIATIONS.jpg\n",
      "Loop Break\n",
      "https://www.creativeshrimp.com/wp-content/uploads/2015/11/TEXTRIOUS.jpg\n",
      "Loop Break\n",
      "https://www.creativeshrimp.com/wp-content/uploads/2015/11/TUNGSTEN.jpg\n",
      "Loop Break\n",
      "https://www.creativeshrimp.com/wp-content/uploads/2015/11/U1.COMBINER.jpg\n",
      "Loop Break\n",
      "https://www.creativeshrimp.com/wp-content/uploads/2015/11/VHC.01.jpg\n",
      "Loop Break\n",
      "https://www.creativeshrimp.com/wp-content/uploads/2015/11/WINTERMIX.jpg\n",
      "Loop Break\n",
      "https://www.creativeshrimp.com/wp-content/uploads/2015/11/YT.SUN-CITY08.jpg\n",
      "Loop Break\n",
      "https://www.creativeshrimp.com/wp-content/uploads/2015/11/DAY-3000.jpg\n",
      "Loop Break\n"
     ]
    }
   ],
   "source": [
    "url=\"https://www.creativeshrimp.com/top-30-artworks-of-beeple.html\"\n",
    "\n",
    "source_code=requests.get(url)\n",
    "\n",
    "plain_text=source_code.text\n",
    "\n",
    "soup=BeautifulSoup(plain_text)\n",
    "\n",
    "\n",
    "for link in soup.find_all(\"a\",{\"class\":\"lightbox\"}):\n",
    "    href=link.get('href')\n",
    "    print(href)\n",
    "    \n",
    "    img_name=random.randrange(1,500)\n",
    "    \n",
    "    full_name=str(img_name)+\".jpg\"\n",
    "    \n",
    "    urllib.request.urlretrieve(href,full_name)\n",
    "    print(\"Loop Break\")\n",
    "print(\"THE END\")"
   ]
  },
  {
   "cell_type": "code",
   "execution_count": null,
   "metadata": {},
   "outputs": [],
   "source": []
  },
  {
   "cell_type": "code",
   "execution_count": null,
   "metadata": {},
   "outputs": [],
   "source": []
  }
 ],
 "metadata": {
  "kernelspec": {
   "display_name": "Python 3",
   "language": "python",
   "name": "python3"
  },
  "language_info": {
   "codemirror_mode": {
    "name": "ipython",
    "version": 3
   },
   "file_extension": ".py",
   "mimetype": "text/x-python",
   "name": "python",
   "nbconvert_exporter": "python",
   "pygments_lexer": "ipython3",
   "version": "3.7.6"
  }
 },
 "nbformat": 4,
 "nbformat_minor": 4
}
